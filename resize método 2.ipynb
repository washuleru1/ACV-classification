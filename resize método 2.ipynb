{
 "cells": [
  {
   "cell_type": "code",
   "execution_count": 4,
   "id": "f749e1e5",
   "metadata": {},
   "outputs": [],
   "source": [
    "import tifffile\n",
    "import numpy as np \n",
    "import pandas as pd \n",
    "import cv2\n",
    "import gc"
   ]
  },
  {
   "cell_type": "code",
   "execution_count": 5,
   "id": "8a14bd7b",
   "metadata": {},
   "outputs": [
    {
     "data": {
      "text/plain": [
       "754"
      ]
     },
     "execution_count": 5,
     "metadata": {},
     "output_type": "execute_result"
    }
   ],
   "source": [
    "dataset_df = pd.read_csv('train.csv')\n",
    "dataset_df.shape[0]"
   ]
  },
  {
   "cell_type": "code",
   "execution_count": 21,
   "id": "79659d1a",
   "metadata": {},
   "outputs": [
    {
     "name": "stdout",
     "output_type": "stream",
     "text": [
      "Trabajando imagen: fe9bec_0\n",
      "Trabajando imagen: ff14e0_0\n",
      "Trabajando imagen: ffec5c_0\n",
      "Trabajando imagen: ffec5c_1\n"
     ]
    }
   ],
   "source": [
    "for image_id in dataset_df[\"image_id\"]:\n",
    "    print(\"Trabajando imagen: {}\".format(image_id))\n",
    "    img = cv2.resize(tifffile.imread(\"./train/{}.tif\".format(image_id)), (512,512))\n",
    "    cv2.imwrite(\"./resized_method_2/resized_{}.jpg\".format(image_id), img)\n",
    "    del img\n",
    "    gc.collect()"
   ]
  },
  {
   "cell_type": "code",
   "execution_count": 20,
   "id": "c8e1d565",
   "metadata": {},
   "outputs": [
    {
     "name": "stdout",
     "output_type": "stream",
     "text": [
      "fe9bec_0\n",
      "ff14e0_0\n",
      "ffec5c_0\n",
      "ffec5c_1\n"
     ]
    }
   ],
   "source": [
    "for image_id in dataset_df[\"image_id\"].iloc[750:]:\n",
    "    print(image_id)"
   ]
  },
  {
   "cell_type": "code",
   "execution_count": null,
   "id": "1212fa2a",
   "metadata": {},
   "outputs": [],
   "source": []
  }
 ],
 "metadata": {
  "kernelspec": {
   "display_name": "Python 3 (ipykernel)",
   "language": "python",
   "name": "python3"
  },
  "language_info": {
   "codemirror_mode": {
    "name": "ipython",
    "version": 3
   },
   "file_extension": ".py",
   "mimetype": "text/x-python",
   "name": "python",
   "nbconvert_exporter": "python",
   "pygments_lexer": "ipython3",
   "version": "3.9.7"
  }
 },
 "nbformat": 4,
 "nbformat_minor": 5
}
