{
 "cells": [
  {
   "cell_type": "code",
   "execution_count": 1,
   "id": "2f0db19f",
   "metadata": {},
   "outputs": [
    {
     "name": "stdout",
     "output_type": "stream",
     "text": [
      "Collecting git+https://github.com/yu4u/seam-carving.git\n",
      "  Cloning https://github.com/yu4u/seam-carving.git to /private/var/folders/w9/gh780vs52dgb_ypr6vd5g_4m0000gn/T/pip-req-build-9s8uqrzn\n",
      "  Running command git clone -q https://github.com/yu4u/seam-carving.git /private/var/folders/w9/gh780vs52dgb_ypr6vd5g_4m0000gn/T/pip-req-build-9s8uqrzn\n",
      "  Resolved https://github.com/yu4u/seam-carving.git to commit 6dd7686bc24e8008d86f6faac2002a5260d9a91c\n",
      "Requirement already satisfied: numpy in /Users/dani/opt/anaconda3/lib/python3.9/site-packages (from seam-carving==1.0.0) (1.20.3)\n",
      "Requirement already satisfied: scipy in /Users/dani/opt/anaconda3/lib/python3.9/site-packages (from seam-carving==1.0.0) (1.7.1)\n",
      "Building wheels for collected packages: seam-carving\n",
      "  Building wheel for seam-carving (setup.py) ... \u001b[?25ldone\n",
      "\u001b[?25h  Created wheel for seam-carving: filename=seam_carving-1.0.0-py3-none-any.whl size=10194 sha256=42fc7b752ae718de8cb2c9f98e9ca183e1b964292afcfdc524abc1961d705807\n",
      "  Stored in directory: /private/var/folders/w9/gh780vs52dgb_ypr6vd5g_4m0000gn/T/pip-ephem-wheel-cache-7ct9nu_i/wheels/72/2c/d5/2f20af206747c2f98ad67600aa76f35071f8f68571e0d31a6b\n",
      "Successfully built seam-carving\n",
      "Installing collected packages: seam-carving\n",
      "Successfully installed seam-carving-1.0.0\n"
     ]
    }
   ],
   "source": [
    "! pip install git+https://github.com/yu4u/seam-carving.git"
   ]
  },
  {
   "cell_type": "code",
   "execution_count": 1,
   "id": "18147e41",
   "metadata": {},
   "outputs": [],
   "source": [
    "from pathlib import Path\n",
    "from PIL import Image\n",
    "Image.MAX_IMAGE_PIXELS = None\n",
    "import matplotlib.pyplot as plt\n",
    "import seam_carving\n",
    "import pandas as pd\n",
    "import gc\n",
    "import tifffile\n",
    "seam_carving.carve.MAX_MEAN_ENERGY = 10.0"
   ]
  },
  {
   "cell_type": "code",
   "execution_count": null,
   "id": "5d692f75",
   "metadata": {},
   "outputs": [
    {
     "name": "stdout",
     "output_type": "stream",
     "text": [
      "trabajando imagen: 006388_0\n"
     ]
    }
   ],
   "source": [
    "dataset_df = pd.read_csv('train.csv')\n",
    "for image_id in dataset_df[\"image_id\"].iloc[:2]:\n",
    "    print(\"trabajando imagen: {}\".format(image_id))\n",
    "    img = tifffile.imread(\"./train/{}.tif\".format(image_id))\n",
    "    dst = seam_carving.resize(img, (512, 512))\n",
    "    cv2.imwrite(\"./resized_experimental_{}.jpg\".format(image_id), img)\n",
    "    del dst\n",
    "    del img\n",
    "    gc.collect()"
   ]
  },
  {
   "cell_type": "code",
   "execution_count": null,
   "id": "d8c2ca23",
   "metadata": {},
   "outputs": [],
   "source": [
    "path_img = \"train/006388_0.tif\"\n",
    "img = Image.open(path_img)\n",
    "dst = seam_carving.resize(img, (100, 100))\n",
    "type(dst)"
   ]
  },
  {
   "cell_type": "code",
   "execution_count": 9,
   "id": "7e8e63e4",
   "metadata": {},
   "outputs": [],
   "source": [
    "resized = Image.fromarray(dst).save(\"resized_dataset/resized_\"+\"006388_0.tif\")"
   ]
  },
  {
   "cell_type": "code",
   "execution_count": 23,
   "id": "0f15a1ab",
   "metadata": {},
   "outputs": [
    {
     "name": "stdout",
     "output_type": "stream",
     "text": [
      "resized_055f6a_0.tif\n",
      "resized_05a1ec_0.tif\n",
      "resized_062387_0.tif\n",
      "resized_070fe0_0.tif\n",
      "resized_08d3d8_0.tif\n",
      "resized_09644e_0.tif\n",
      "resized_09644e_1.tif\n",
      "resized_09644e_2.tif\n",
      "resized_09644e_3.tif\n",
      "resized_09644e_4.tif\n"
     ]
    }
   ],
   "source": [
    "dataset_df = pd.read_csv('train.csv')\n",
    "for image_id in dataset_df[\"image_id\"].iloc[:20]:\n",
    "    print(\"resized_\"+image_id+\".tif\")"
   ]
  },
  {
   "cell_type": "code",
   "execution_count": 27,
   "id": "7a408cf6",
   "metadata": {},
   "outputs": [
    {
     "name": "stdout",
     "output_type": "stream",
     "text": [
      "Abriendo imagen: 006388_0\n",
      "Abriendo imagen: 008e5c_0\n",
      "Abriendo imagen: 00c058_0\n",
      "Abriendo imagen: 01adc5_0\n",
      "Abriendo imagen: 026c97_0\n",
      "Abriendo imagen: 028989_0\n",
      "Abriendo imagen: 029c68_0\n",
      "Abriendo imagen: 032f10_0\n",
      "Abriendo imagen: 0372b0_0\n",
      "Abriendo imagen: 037300_0\n",
      "Abriendo imagen: 03d1ec_0\n",
      "Abriendo imagen: 03e6b7_0\n",
      "Abriendo imagen: 0415c3_0\n",
      "Abriendo imagen: 04439c_0\n",
      "Abriendo imagen: 045eb0_0\n",
      "Abriendo imagen: 0468a8_0\n",
      "Abriendo imagen: 0468a8_1\n",
      "Abriendo imagen: 049194_0\n",
      "Abriendo imagen: 049194_1\n",
      "Abriendo imagen: 04f7a4_0\n"
     ]
    }
   ],
   "source": [
    "#resize de las imágenes\n",
    "dataset_df = pd.read_csv('train.csv')\n",
    "for image_id in dataset_df[\"image_id\"].iloc[:20]:\n",
    "    print(\"Abriendo imagen: {}\".format(image_id))\n",
    "    img = Image.open(\"./train/{}.tif\".format(image_id))\n",
    "    img.thumbnail((2048, 2048))\n",
    "    dst = seam_carving.resize(img, (100, 100))\n",
    "    resized = Image.fromarray(dst).save(\"resized_dataset/resized_\"+image_id+\".tif\")\n",
    "    del dst\n",
    "    del img\n",
    "    gc.collect()"
   ]
  },
  {
   "cell_type": "code",
   "execution_count": 29,
   "id": "8d879a79",
   "metadata": {},
   "outputs": [
    {
     "data": {
      "text/plain": [
       "<function gc.collect(generation=2)>"
      ]
     },
     "execution_count": 29,
     "metadata": {},
     "output_type": "execute_result"
    }
   ],
   "source": [
    "del dst\n",
    "del img\n",
    "gc.collect"
   ]
  },
  {
   "cell_type": "code",
   "execution_count": null,
   "id": "5dcbe10e",
   "metadata": {},
   "outputs": [],
   "source": []
  }
 ],
 "metadata": {
  "kernelspec": {
   "display_name": "Python 3 (ipykernel)",
   "language": "python",
   "name": "python3"
  },
  "language_info": {
   "codemirror_mode": {
    "name": "ipython",
    "version": 3
   },
   "file_extension": ".py",
   "mimetype": "text/x-python",
   "name": "python",
   "nbconvert_exporter": "python",
   "pygments_lexer": "ipython3",
   "version": "3.9.7"
  }
 },
 "nbformat": 4,
 "nbformat_minor": 5
}
